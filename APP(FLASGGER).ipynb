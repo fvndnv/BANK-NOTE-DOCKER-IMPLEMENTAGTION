{
 "cells": [
  {
   "cell_type": "code",
   "execution_count": 1,
   "metadata": {},
   "outputs": [],
   "source": [
    "import pandas as pd\n",
    "import numpy as np\n",
    "import os\n",
    "import pickle\n",
    "from flask import Flask, request\n",
    "import flasgger\n",
    "from flasgger import Swagger"
   ]
  },
  {
   "cell_type": "code",
   "execution_count": null,
   "metadata": {},
   "outputs": [
    {
     "name": "stdout",
     "output_type": "stream",
     "text": [
      " * Serving Flask app \"__main__\" (lazy loading)\n",
      " * Environment: production\n",
      "   WARNING: This is a development server. Do not use it in a production deployment.\n",
      "   Use a production WSGI server instead.\n",
      " * Debug mode: off\n"
     ]
    },
    {
     "name": "stderr",
     "output_type": "stream",
     "text": [
      " * Running on http://127.0.0.1:5000/ (Press CTRL+C to quit)\n",
      "127.0.0.1 - - [10/Jul/2020 12:46:35] \"\u001b[37mGET / HTTP/1.1\u001b[0m\" 200 -\n",
      "127.0.0.1 - - [10/Jul/2020 12:46:35] \"\u001b[33mGET /favicon.ico HTTP/1.1\u001b[0m\" 404 -\n",
      "127.0.0.1 - - [10/Jul/2020 12:46:41] \"\u001b[33mGET /flasgger HTTP/1.1\u001b[0m\" 404 -\n",
      "127.0.0.1 - - [10/Jul/2020 12:47:21] \"\u001b[37mGET /apidocs/ HTTP/1.1\u001b[0m\" 200 -\n",
      "127.0.0.1 - - [10/Jul/2020 12:47:21] \"\u001b[36mGET /flasgger_static/swagger-ui.css HTTP/1.1\u001b[0m\" 304 -\n",
      "127.0.0.1 - - [10/Jul/2020 12:47:21] \"\u001b[36mGET /flasgger_static/swagger-ui-bundle.js HTTP/1.1\u001b[0m\" 304 -\n",
      "127.0.0.1 - - [10/Jul/2020 12:47:21] \"\u001b[36mGET /flasgger_static/swagger-ui-standalone-preset.js HTTP/1.1\u001b[0m\" 304 -\n",
      "127.0.0.1 - - [10/Jul/2020 12:47:21] \"\u001b[36mGET /flasgger_static/lib/jquery.min.js HTTP/1.1\u001b[0m\" 304 -\n",
      "127.0.0.1 - - [10/Jul/2020 12:47:21] \"\u001b[37mGET /apispec_1.json HTTP/1.1\u001b[0m\" 200 -\n",
      "127.0.0.1 - - [10/Jul/2020 12:47:32] \"\u001b[32mGET /apidocs HTTP/1.1\u001b[0m\" 308 -\n",
      "127.0.0.1 - - [10/Jul/2020 12:47:32] \"\u001b[37mGET /apidocs/ HTTP/1.1\u001b[0m\" 200 -\n",
      "127.0.0.1 - - [10/Jul/2020 12:47:32] \"\u001b[37mGET /apispec_1.json HTTP/1.1\u001b[0m\" 200 -\n",
      "127.0.0.1 - - [10/Jul/2020 13:47:48] \"\u001b[32mGET /apidocs HTTP/1.1\u001b[0m\" 308 -\n",
      "127.0.0.1 - - [10/Jul/2020 13:47:48] \"\u001b[37mGET /apidocs/ HTTP/1.1\u001b[0m\" 200 -\n",
      "127.0.0.1 - - [10/Jul/2020 13:47:48] \"\u001b[37mGET /apispec_1.json HTTP/1.1\u001b[0m\" 200 -\n",
      "127.0.0.1 - - [10/Jul/2020 13:54:35] \"\u001b[37mGET /apidocs/ HTTP/1.1\u001b[0m\" 200 -\n",
      "127.0.0.1 - - [10/Jul/2020 13:54:48] \"\u001b[37mGET /apispec_1.json HTTP/1.1\u001b[0m\" 200 -\n"
     ]
    }
   ],
   "source": [
    "app=Flask(__name__)\n",
    "Swagger(app)\n",
    "pickle_in=open(\"classifier.pkl\", \"rb\")\n",
    "classifier=pickle.load(pickle_in)\n",
    "\n",
    "@app.route('/')\n",
    "def welcome():\n",
    "    return \"welcome you\"\n",
    "\n",
    "@app.route(\"/predict\")\n",
    "def predict_note_authentication():\n",
    "    \n",
    "    \"\"\"Let's authenticate the Banks Note\n",
    "    This is using DocStrings for Specifications.\n",
    "    ---\n",
    "    parameters:\n",
    "      - name: variance\n",
    "        in: query\n",
    "        type: number\n",
    "        required: true\n",
    "      - name: skewness\n",
    "        in: query\n",
    "        type: number\n",
    "        required: true\n",
    "      - name: curtosis\n",
    "        in: query\n",
    "        type: number\n",
    "        required: true\n",
    "      - name: entropy\n",
    "        in: query\n",
    "        type: number\n",
    "        required: true\n",
    "    responses:\n",
    "        200:\n",
    "            description: The Output Values\n",
    "    \"\"\"\n",
    "    \n",
    "    variance=request.args.get('variance')\n",
    "    skewness=request.args.get('skewness')\n",
    "    curtosis=request.args.get('curtosis')\n",
    "    entropy=request.args.get('entropy')\n",
    "    prediction=classifier.predict([[variance,skewness,curtosis,entropy]])\n",
    "    return \"the prediction values is\" + str(prediction)\n",
    "\n",
    "@app.route(\"/predict_file\", methods=['POST'])\n",
    "def predict_note_file():\n",
    "    \n",
    "    \"\"\"Let's authenticate the Banks Note\n",
    "    This is using docstrings for specifications.\n",
    "    ---\n",
    "    parameters:\n",
    "      - name: file\n",
    "        in: formData\n",
    "        type: file\n",
    "        required: true\n",
    "    responses:\n",
    "        200:\n",
    "            Description: The Output Values\n",
    "    \"\"\"\n",
    "    df_test=pd.read_csv(request.files.get(\"file\"))\n",
    "    prediction=classifier.predict(df_test)\n",
    "    return \"the prediction list for the csv file\" + str(list(prediction))\n",
    "\n",
    "if __name__=='__main__':\n",
    "    app.run()"
   ]
  },
  {
   "cell_type": "code",
   "execution_count": null,
   "metadata": {},
   "outputs": [],
   "source": []
  }
 ],
 "metadata": {
  "kernelspec": {
   "display_name": "Python 3",
   "language": "python",
   "name": "python3"
  },
  "language_info": {
   "codemirror_mode": {
    "name": "ipython",
    "version": 3
   },
   "file_extension": ".py",
   "mimetype": "text/x-python",
   "name": "python",
   "nbconvert_exporter": "python",
   "pygments_lexer": "ipython3",
   "version": "3.7.6"
  }
 },
 "nbformat": 4,
 "nbformat_minor": 4
}
